{
 "cells": [
  {
   "cell_type": "code",
   "execution_count": 2,
   "metadata": {},
   "outputs": [],
   "source": [
    "import cv2 as cv\n",
    "import numpy as np \n",
    "import matplotlib.pyplot as plt\n",
    "import pandas as pd\n",
    "import os\n",
    "import shutil\n",
    "from pathlib import Path\n",
    "from tqdm import tqdm"
   ]
  },
  {
   "cell_type": "code",
   "execution_count": 3,
   "metadata": {},
   "outputs": [],
   "source": [
    "import sys\n",
    "sys.path.insert(0, '../../')\n",
    "from utils.general import  *"
   ]
  },
  {
   "cell_type": "code",
   "execution_count": 38,
   "metadata": {},
   "outputs": [],
   "source": [
    "def shrink_image(img_path, label_path, kernel_size=2, avg_bbox_size=16272):\n",
    "    bbox_sizes = []\n",
    "    img = cv.imread(img_path)\n",
    "    labels = pd.DataFrame({'class':[],'segment':[]})\n",
    "    kernel = np.ones((kernel_size, kernel_size), dtype=float) / kernel_size**2\n",
    "\n",
    "    with open(label_path) as f:\n",
    "        for line in f:\n",
    "            split_line = line.split(' ')\n",
    "            cl = int(split_line[0])\n",
    "            segment = np.array(split_line[1:], dtype=float)\n",
    "            row = pd.DataFrame({'class':cl, 'segment': [segment]})\n",
    "            labels = pd.concat([labels, row], ignore_index=True)\n",
    "    \n",
    "    while True: \n",
    "        bbox_sizes = []\n",
    "        mean_img = cv.filter2D(img, -1, kernel)\n",
    "        smaller_img = mean_img[::kernel_size, ::kernel_size]\n",
    "        ysize = smaller_img.shape[0]\n",
    "        xsize = smaller_img.shape[1]\n",
    "        for idx, row in labels.iterrows():\n",
    "            segment = row['segment']\n",
    "            segment = segment.reshape(-1, 2)\n",
    "            bbox = segment2box(segment)\n",
    "            x, y, w, h = bbox\n",
    "            w*=xsize\n",
    "            h*=ysize\n",
    "            bbox_sizes.append(w*h)\n",
    "        bbox_mean = np.mean(bbox_sizes)\n",
    "        if bbox_mean < avg_bbox_size:\n",
    "            img = smaller_img\n",
    "            break\n",
    "        img = smaller_img\n",
    "\n",
    "    return img, labels"
   ]
  },
  {
   "cell_type": "code",
   "execution_count": 40,
   "metadata": {},
   "outputs": [
    {
     "name": "stderr",
     "output_type": "stream",
     "text": [
      "  6%|▌         | 1666/30000 [00:20<05:38, 83.76it/s]"
     ]
    }
   ],
   "source": [
    "def create_small_train_imgs(train_dir_path, \n",
    "                            label_dir_path, \n",
    "                            num_imgs=None, \n",
    "                            chosen_images = None,\n",
    "                            avg_bbox_size=16272):\n",
    "\n",
    "    assert not ((num_imgs is not None) and (chosen_images is not None)), \"Must provide either num_imgs, or chosen_images\"\n",
    "\n",
    "    created_images = []\n",
    "    select_random = False\n",
    "\n",
    "    if not chosen_images:\n",
    "        chosen_images = []\n",
    "        select_random = True\n",
    "    else:\n",
    "        num_imgs = len(chosen_images)\n",
    "        \n",
    "    train_dir_path = Path(train_dir_path)\n",
    "    label_dir_path = Path(label_dir_path)\n",
    "    img_dir_list = os.listdir(train_dir_path)\n",
    "\n",
    "    for i in tqdm(range(num_imgs)):\n",
    "\n",
    "        if select_random:\n",
    "            img_path = train_dir_path / Path(np.random.choice(img_dir_list, replace=False))\n",
    "        else:\n",
    "            img_path = train_dir_path / chosen_images[i]\n",
    "        chosen_images.append(img_path.name)\n",
    "        label_path = label_dir_path / img_path.name.replace('.jpg','.txt')\n",
    "\n",
    "        if label_path.exists():\n",
    "            small_img, small_labels = shrink_image(img_path, label_path)\n",
    "\n",
    "            new_file_name = img_path.name.replace('.jpg', 'sm')\n",
    "            small_img_train_path = train_dir_path / (new_file_name + '.jpg')\n",
    "            small_img_label_path = label_dir_path / (new_file_name + '.txt')\n",
    "\n",
    "            created_images.append(small_img_train_path)\n",
    "            cv2.imwrite(small_img_train_path, small_img)\n",
    "            shutil.copy(label_path, small_img_label_path)\n",
    "    \n",
    "    train_txt_path = train_dir_path.parent.parent / 'train2017.txt'\n",
    "\n",
    "    with open(train_txt_path, 'a') as f:\n",
    "        new_train_path = Path(new_train_dir)\n",
    "        new_train_list = os.listdir(new_train_path)\n",
    "        for filepath in created_images:\n",
    "            img_path = Path(filepath)\n",
    "            f.write('\\n./images/train2017/' + img_path.name)\n",
    "    \n",
    "    return chosen_images\n",
    "\n",
    "train_img_dir = '/home/isaacp/research/repos/yolov7/coco_mean_pooling/images/train2017'\n",
    "train_label_dir = '/home/isaacp/research/repos/yolov7/coco_mean_pooling/labels/train2017'\n",
    "num_images = 30000\n",
    "\n",
    "chosen_images = create_small_train_imgs(train_img_dir, train_label_dir, num_images)\n",
    "\n",
    "train_img_dir = '/home/isaacp/research/repos/yolov7/coco_extra_training/images/train2017'\n",
    "train_label_dir = '/home/isaacp/research/repos/yolov7/coco_extra_training/labels/train2017'\n",
    "create_small_train_imgs(train_img_dir, train_label_dir, chosen_images=chosen_images, avg_bbox_size=np.inf)"
   ]
  }
 ],
 "metadata": {
  "kernelspec": {
   "display_name": "Python 3",
   "language": "python",
   "name": "python3"
  },
  "language_info": {
   "codemirror_mode": {
    "name": "ipython",
    "version": 3
   },
   "file_extension": ".py",
   "mimetype": "text/x-python",
   "name": "python",
   "nbconvert_exporter": "python",
   "pygments_lexer": "ipython3",
   "version": "3.8.10"
  }
 },
 "nbformat": 4,
 "nbformat_minor": 2
}
